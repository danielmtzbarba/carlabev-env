{
 "cells": [
  {
   "cell_type": "code",
   "execution_count": 1,
   "id": "ef79a2d5",
   "metadata": {},
   "outputs": [],
   "source": [
    "import numpy as np\n",
    "import pandas as pd\n",
    "import networkx as nx"
   ]
  },
  {
   "cell_type": "code",
   "execution_count": 2,
   "id": "94d6333d",
   "metadata": {},
   "outputs": [],
   "source": [
    "%config InlineBackend.figure_format='retina'\n",
    "%matplotlib qt \n",
    "import matplotlib.pyplot as plt\n",
    "plt.rcParams['figure.figsize'] = (8, 6)\n",
    "import matplotlib.pyplot as plt"
   ]
  },
  {
   "cell_type": "code",
   "execution_count": 3,
   "id": "ea320337",
   "metadata": {},
   "outputs": [
    {
     "name": "stdout",
     "output_type": "stream",
     "text": [
      "Image Size: (1280, 1024)\n",
      "Image Size: (10240, 8192, 3)\n"
     ]
    }
   ],
   "source": [
    "from CarlaBEV.envs.utils import load_planning_map, load_map\n",
    "\n",
    "planning_map = load_planning_map()\n",
    "rgbmap, _ = load_map(size=1024)\n",
    "\n",
    "print(f\"Image Size: {planning_map.shape}\")\n",
    "print(f\"Image Size: {rgbmap.shape}\")"
   ]
  },
  {
   "cell_type": "code",
   "execution_count": 9,
   "id": "ba1b1be5",
   "metadata": {},
   "outputs": [],
   "source": [
    "intersections = [\n",
    "    (8642, 1564),\n",
    "    (8654, 6755),\n",
    "    (7250, 1552),\n",
    "    (7241, 2446),\n",
    "    (7242, 3652),\n",
    "    (7242, 4704),\n",
    "    (7257, 6773),\n",
    "    (6199, 1552),\n",
    "    (6197, 2439),\n",
    "    (3349, 1545),\n",
    "    (3350, 2456),\n",
    "    (3350, 3639),\n",
    "    (3335, 4714),\n",
    "    (3315, 6773),\n",
    "    (2456, 1563),\n",
    "    (2446, 6757),\n",
    " ]"
   ]
  },
  {
   "cell_type": "code",
   "execution_count": 10,
   "id": "33c5933e",
   "metadata": {},
   "outputs": [],
   "source": [
    "map_edges = {}\n",
    "for i, coord in enumerate(intersections):\n",
    "    x, y = coord\n",
    "    map_edges[i] = (x, y)"
   ]
  },
  {
   "cell_type": "code",
   "execution_count": 6,
   "id": "3da790a5",
   "metadata": {},
   "outputs": [],
   "source": [
    "from skimage.color import rgb2gray\n",
    "from skimage.morphology import skeletonize\n",
    "\n",
    "def get_midlane_coords(rgbmap):\n",
    "    gray = rgb2gray(rgbmap)\n",
    "    binary = gray > 0.99  # Adjust threshold if needed\n",
    "    # Skeletonize to get lane centerlines\n",
    "    skeleton = skeletonize(binary)\n",
    "    # Get coordinates of skeleton pixels (centerline points)\n",
    "    centerline_coords = np.argwhere(skeleton)\n",
    "    return centerline_coords\n",
    "\n",
    "def sample_equidistant_points(path_coords, step=100):\n",
    "    \"\"\"Given a list of (y, x) coords, return equidistant points along the path.\"\"\"\n",
    "    path_coords = np.array(path_coords)\n",
    "    # Compute cumulative distance along the path\n",
    "    deltas = np.diff(path_coords, axis=0)\n",
    "    dists = np.sqrt((deltas**2).sum(axis=1))\n",
    "    cumdist = np.insert(np.cumsum(dists), 0, 0)\n",
    "    total_dist = cumdist[-1]\n",
    "    n_points = int(total_dist // step)\n",
    "    if n_points < 2:\n",
    "        return path_coords  # Path too short, return as is\n",
    "    sample_dists = np.linspace(0, total_dist, n_points)\n",
    "    sampled_points = np.empty((n_points, 2))\n",
    "    sampled_points[0] = path_coords[0]\n",
    "    sampled_points[-1] = path_coords[-1]\n",
    "    j = 1\n",
    "    for i in range(1, n_points-1):\n",
    "        d = sample_dists[i]\n",
    "        while cumdist[j] < d:\n",
    "            j += 1\n",
    "        ratio = (d - cumdist[j-1]) / (cumdist[j] - cumdist[j-1])\n",
    "        sampled_points[i] = path_coords[j-1] + ratio * (path_coords[j] - path_coords[j-1])\n",
    "    return sampled_points.astype(int)"
   ]
  },
  {
   "cell_type": "code",
   "execution_count": 7,
   "id": "a6352097",
   "metadata": {},
   "outputs": [],
   "source": [
    "centerline_coords = get_midlane_coords(rgbmap)"
   ]
  },
  {
   "cell_type": "code",
   "execution_count": 17,
   "id": "5cfb0e14",
   "metadata": {},
   "outputs": [],
   "source": [
    "plt.imshow(rgbmap)\n",
    "plt.scatter(centerline_coords[:,1], centerline_coords[:,0], c='gray', s=0.1, label='All Centerlines')\n",
    "for idx, p in enumerate(intersections):\n",
    "    plt.scatter(p[1], p[0], c='red', s=20)\n",
    "    plt.annotate(str(idx), (p[1], p[0]), color='k', fontsize=10, weight='bold')\n",
    "plt.legend()\n",
    "plt.title(\"Closest Centerlines & Midpoints Between Intersections\")\n",
    "plt.show()"
   ]
  },
  {
   "cell_type": "code",
   "execution_count": 16,
   "id": "1259b7d4",
   "metadata": {},
   "outputs": [
    {
     "name": "stdout",
     "output_type": "stream",
     "text": [
      "Direct intersection pairs (by index): [(0, 1), (0, 2), (1, 6), (2, 3), (2, 7), (3, 4), (3, 8), (4, 5), (4, 11), (5, 6), (5, 12), (6, 13), (7, 8), (7, 9), (8, 10), (9, 10), (9, 14), (10, 11), (11, 12), (12, 13), (13, 15), (14, 15)]\n"
     ]
    }
   ],
   "source": [
    "# 1. Find the closest centerline point for each intersection\n",
    "intersection_nodes = []\n",
    "for intersection in intersections:\n",
    "    dists = np.linalg.norm(centerline_coords - intersection, axis=1)\n",
    "    idx_min = np.argmin(dists)\n",
    "    intersection_nodes.append(tuple(centerline_coords[idx_min]))\n",
    "\n",
    "# 2. Build a pixel adjacency graph for centerline_coords (for pathfinding only)\n",
    "pixel_graph = nx.Graph()\n",
    "centerline_set = set(map(tuple, centerline_coords))\n",
    "for y, x in centerline_coords:\n",
    "    for dy in [-1, 0, 1]:\n",
    "        for dx in [-1, 0, 1]:\n",
    "            if dy == 0 and dx == 0:\n",
    "                continue\n",
    "            neighbor = (y + dy, x + dx)\n",
    "            if neighbor in centerline_set:\n",
    "                pixel_graph.add_edge((y, x), neighbor)\n",
    "\n",
    "# 3. Precompute a set of \"blocked\" pixels for each intersection (within a radius)\n",
    "block_radius = 100  # pixels\n",
    "blocked_pixels = []\n",
    "for node in intersection_nodes:\n",
    "    y0, x0 = node\n",
    "    pixels = set()\n",
    "    for dy in range(-block_radius, block_radius+1):\n",
    "        for dx in range(-block_radius, block_radius+1):\n",
    "            if dy**2 + dx**2 <= block_radius**2:\n",
    "                pixels.add((y0+dy, x0+dx))\n",
    "    blocked_pixels.append(pixels)\n",
    "\n",
    "# 4. Build the intersection graph\n",
    "G_intersections = nx.Graph()\n",
    "for idx in range(len(intersections)):\n",
    "    G_intersections.add_node(idx, pos=intersections[idx])\n",
    "\n",
    "for i, node_a in enumerate(intersection_nodes):\n",
    "    for j, node_b in enumerate(intersection_nodes):\n",
    "        if i < j:\n",
    "            try:\n",
    "                path = nx.shortest_path(pixel_graph, node_a, node_b)\n",
    "                path_set = set(path[1:-1])\n",
    "                blocked = False\n",
    "                for k, block in enumerate(blocked_pixels):\n",
    "                    if k != i and k != j and path_set & block:\n",
    "                        blocked = True\n",
    "                        break\n",
    "                if not blocked:\n",
    "                    G_intersections.add_edge(i, j)\n",
    "            except nx.NetworkXNoPath:\n",
    "                continue\n",
    "\n",
    "print(\"Direct intersection pairs (by index):\", list(G_intersections.edges))\n",
    "\n",
    "# Visualization\n",
    "plt.imshow(rgbmap)\n",
    "for idx, p in enumerate(intersections):\n",
    "    plt.scatter(p[1], p[0], c='red', s=20)\n",
    "    plt.annotate(str(idx), (p[1], p[0]), color='k', fontsize=10, weight='bold')\n",
    "for i, j in G_intersections.edges:\n",
    "    a = intersections[i]\n",
    "    b = intersections[j]\n",
    "    plt.plot([a[1], b[1]], [a[0], b[0]], 'c-', lw=2)\n",
    "plt.title(\"Intersection Graph (nodes=intersections, edges=direct paths)\")\n",
    "plt.show()"
   ]
  },
  {
   "cell_type": "code",
   "execution_count": 29,
   "id": "40cd6886",
   "metadata": {},
   "outputs": [],
   "source": [
    "options = {\n",
    "    \"font_size\": 18,\n",
    "    \"node_size\": 1000,\n",
    "    \"node_color\": \"white\",\n",
    "    \"edgecolors\": \"black\",\n",
    "    \"linewidths\": 5,\n",
    "    \"width\": 5,\n",
    "}\n",
    "nx.draw_networkx(G_intersections, map_edges, **options)\n",
    "\n",
    "# Set margins for the axes so that nodes aren't clipped\n",
    "ax = plt.gca()\n",
    "ax.margins(0.20)\n",
    "plt.axis(\"off\")\n",
    "plt.show()"
   ]
  },
  {
   "cell_type": "code",
   "execution_count": 15,
   "id": "7e7e6de6",
   "metadata": {},
   "outputs": [
    {
     "name": "stdout",
     "output_type": "stream",
     "text": [
      "Route (intersection indices): [0, 1, 6, 5]\n",
      "Total waypoints: 84\n"
     ]
    }
   ],
   "source": [
    "# ...existing code...\n",
    "\n",
    "start_idx = 0  # index of start intersection\n",
    "end_idx = 5    # index of goal intersection\n",
    "\n",
    "# 1. Find the shortest path (by number of edges)\n",
    "route = nx.shortest_path(G_intersections, source=start_idx, target=end_idx)\n",
    "print(\"Route (intersection indices):\", route)\n",
    "\n",
    "# 2. For each consecutive pair, find pixel path and discretize\n",
    "full_waypoints = []\n",
    "for i in range(len(route) - 1):\n",
    "    idx_a = route[i]\n",
    "    idx_b = route[i+1]\n",
    "    node_a = intersection_nodes[idx_a]\n",
    "    node_b = intersection_nodes[idx_b]\n",
    "    pixel_path = nx.shortest_path(pixel_graph, node_a, node_b)\n",
    "    waypoints = sample_equidistant_points(pixel_path, step=100)  # step in pixels\n",
    "    if i > 0:\n",
    "        # Avoid duplicating the first point of each segment except the first\n",
    "        waypoints = waypoints[1:]\n",
    "    full_waypoints.extend(waypoints)\n",
    "\n",
    "full_waypoints = np.array(full_waypoints)\n",
    "print(\"Total waypoints:\", len(full_waypoints))\n",
    "\n",
    "# 3. Visualize the full route\n",
    "plt.imshow(rgbmap)\n",
    "for idx, p in enumerate(intersections):\n",
    "    plt.scatter(p[1], p[0], c='red', s=80, zorder=3)\n",
    "    plt.annotate(str(idx), (p[1], p[0]), color='k', fontsize=12, weight='bold', zorder=4)\n",
    "plt.plot(full_waypoints[:,1], full_waypoints[:,0], 'orange', lw=2, zorder=5, label='Discretized Route')\n",
    "plt.scatter(full_waypoints[:,1], full_waypoints[:,0], c='b', s=1, zorder=6, label='Waypoints')\n",
    "plt.title(f\"Discretized Route from {start_idx} to {end_idx}\")\n",
    "plt.axis('off')\n",
    "plt.legend()\n",
    "plt.show()"
   ]
  },
  {
   "cell_type": "code",
   "execution_count": 14,
   "id": "344789da",
   "metadata": {},
   "outputs": [],
   "source": [
    "def compute_lane_offsets(waypoints, lane_width=6.0):\n",
    "    \"\"\"\n",
    "    Given centerline waypoints (N,2), return left and right lane waypoints.\n",
    "    lane_width: total width of both lanes (in pixels, adjust as needed)\n",
    "    \"\"\"\n",
    "    waypoints = np.array(waypoints)\n",
    "    left_lane = []\n",
    "    right_lane = []\n",
    "    offset = lane_width / 2.0\n",
    "\n",
    "    for i in range(len(waypoints)):\n",
    "        # Compute direction vector\n",
    "        if i == 0:\n",
    "            direction = waypoints[i+1] - waypoints[i]\n",
    "        elif i == len(waypoints) - 1:\n",
    "            direction = waypoints[i] - waypoints[i-1]\n",
    "        else:\n",
    "            direction = waypoints[i+1] - waypoints[i-1]\n",
    "        direction = direction / np.linalg.norm(direction)\n",
    "        # Normal vector (perpendicular, 2D)\n",
    "        normal = np.array([-direction[1], direction[0]])\n",
    "        # Offset points\n",
    "        left_lane.append(waypoints[i] + offset * normal)\n",
    "        right_lane.append(waypoints[i] - offset * normal)\n",
    "    return np.array(left_lane), np.array(right_lane)\n",
    "\n",
    "# Usage\n",
    "lane_width_pixels = 75  # Adjust to your map's scale\n",
    "left_lane, right_lane = compute_lane_offsets(full_waypoints, lane_width=lane_width_pixels)\n",
    "\n",
    "# Visualization\n",
    "plt.imshow(rgbmap)\n",
    "plt.plot(full_waypoints[:,1], full_waypoints[:,0], 'orange', lw=2, label='Centerline')\n",
    "plt.plot(left_lane[:,1], left_lane[:,0], 'g--', lw=2, label='Left Lane')\n",
    "plt.plot(right_lane[:,1], right_lane[:,0], 'b--', lw=2, label='Right Lane')\n",
    "plt.scatter(full_waypoints[:,1], full_waypoints[:,0], c='orange', s=1)\n",
    "plt.scatter(left_lane[:,1], left_lane[:,0], c='g', s=1)\n",
    "plt.scatter(right_lane[:,1], right_lane[:,0], c='b', s=1)\n",
    "plt.legend()\n",
    "plt.axis('off')\n",
    "plt.title(\"Centerline and Split Lane Routes\")\n",
    "plt.show()"
   ]
  }
 ],
 "metadata": {
  "kernelspec": {
   "display_name": "torch",
   "language": "python",
   "name": "python3"
  },
  "language_info": {
   "codemirror_mode": {
    "name": "ipython",
    "version": 3
   },
   "file_extension": ".py",
   "mimetype": "text/x-python",
   "name": "python",
   "nbconvert_exporter": "python",
   "pygments_lexer": "ipython3",
   "version": "3.12.3"
  }
 },
 "nbformat": 4,
 "nbformat_minor": 5
}
