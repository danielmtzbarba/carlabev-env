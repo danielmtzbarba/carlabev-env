{
 "cells": [
  {
   "cell_type": "markdown",
   "metadata": {},
   "source": [
    "# CORE "
   ]
  },
  {
   "cell_type": "code",
   "execution_count": 1,
   "metadata": {},
   "outputs": [],
   "source": [
    "import pandas as pd\n",
    "import numpy as np\n",
    "import matplotlib.pyplot as plt\n",
    "\n",
    "from CarlaBEV.src.planning.planner import Planner\n",
    "from CarlaBEV.src.planning.graph_planner import GraphPlanner\n",
    "from CarlaBEV.src.scenes import SceneBuilder"
   ]
  },
  {
   "cell_type": "code",
   "execution_count": 2,
   "metadata": {},
   "outputs": [
    {
     "name": "stdout",
     "output_type": "stream",
     "text": [
      "Image Size: (10240, 8192, 3)\n"
     ]
    }
   ],
   "source": [
    "from CarlaBEV.envs.utils import load_map, map_to_rgb\n",
    "\n",
    "rgbmap, _, semap_8 = load_map(size=1024)\n",
    "\n",
    "rgbmap_8 = map_to_rgb(semap_8)\n",
    "print(f\"Image Size: {rgbmap.shape}\")"
   ]
  },
  {
   "cell_type": "code",
   "execution_count": 3,
   "metadata": {},
   "outputs": [],
   "source": [
    "planner = GraphPlanner(graph_path='planning_graph.pkl')"
   ]
  },
  {
   "cell_type": "code",
   "execution_count": 8,
   "metadata": {},
   "outputs": [],
   "source": [
    "def plot_route_on_map(rgbmap, merged_path_coords):\n",
    "    \"\"\"\n",
    "    Plots the route on top of the map.\n",
    "    \"\"\"\n",
    "    plt.figure(figsize=(10, 10))\n",
    "    plt.imshow(rgbmap)\n",
    "    \n",
    "    # Draw route\n",
    "    if merged_path_coords.shape[0] > 1:\n",
    "        plt.plot(merged_path_coords[:, 1], merged_path_coords[:, 0], 'r-', linewidth=3, label='Route')\n",
    "        plt.scatter(merged_path_coords[0, 1], merged_path_coords[0, 0], c='green', s=100, label='Start')\n",
    "        plt.scatter(merged_path_coords[-1, 1], merged_path_coords[-1, 0], c='red', s=100, label='End')\n",
    "\n",
    "    plt.title(\"Shortest Path on Lane: Merged Route\")\n",
    "    plt.legend()\n",
    "    plt.axis('off')\n",
    "    plt.show()\n",
    "    \n",
    "def draw_scene(rgbmap, actors_dict):\n",
    "    \"\"\"\n",
    "    Plots the route on top of the map.\n",
    "    \"\"\"\n",
    "    plt.figure(figsize=(10, 10))\n",
    "    plt.imshow(rgbmap)\n",
    "\n",
    "    agent = actors_dict['agent']\n",
    "    rx, ry = agent\n",
    "\n",
    "    # Draw route\n",
    "    plt.plot(ry, rx, 'r-', linewidth=1, label='Route')\n",
    "\n",
    "    plt.scatter(ry[0], rx[0], c='green', s=10, label='Start')\n",
    "    plt.scatter(ry[-1], rx[-1], c='red', s=10, label='End')\n",
    "\n",
    "    plt.title(\"Scene\")\n",
    "    plt.legend()\n",
    "    plt.axis('off')\n",
    "    plt.show()"
   ]
  },
  {
   "cell_type": "code",
   "execution_count": 5,
   "metadata": {},
   "outputs": [],
   "source": [
    "def append_to_scene(scene_id, actor, class_id):\n",
    "    scene = []\n",
    "    start, goal = actor\n",
    "    scene.append([scene_id, class_id, start, goal, None, None])\n",
    "    return scene\n",
    "\n",
    "def compute_routes_img(scene_df):\n",
    "    for idx, row in scene_df.iterrows():\n",
    "        id = 0\n",
    "        _, class_id, start, goal, _, _ = row\n",
    "        if class_id == \"pedestrians\":\n",
    "            id = 1\n",
    "        planner = Planner(id)\n",
    "        rx, ry = planner.find_global_path(start, goal, 1024)\n",
    "        scene_df.astype({'rx': \"object\", 'ry': \"object\"}).dtypes\n",
    "        scene_df.loc[idx, \"rx\"] = rx\n",
    "        scene_df.loc[idx, \"ry\"] = ry\n",
    "    return scene_df\n",
    "\n",
    "def compute_routes_graph(scene_df):\n",
    "    lane = 'left'\n",
    "    for idx, row in scene_df.iterrows():\n",
    "        id = 0\n",
    "        _, class_id, start, goal, _, _ = row\n",
    "        if class_id == \"pedestrians\":\n",
    "            id = 1\n",
    "        planner = GraphPlanner(graph_path=\"planning_graph.pkl\")\n",
    "        rx, ry = planner.find_global_path(start, goal, lane)\n",
    "        scene_df.astype({'rx': \"object\", 'ry': \"object\"}).dtypes\n",
    "        scene_df.loc[idx, \"rx\"] = rx\n",
    "        scene_df.loc[idx, \"ry\"] = ry\n",
    "    return scene_df\n",
    "\n",
    "\n",
    "def get_scene_df(scene_id, actors_dict):\n",
    "    scene = []\n",
    "    cols = [\"scene_id\", \"class\", \"start\", \"goal\", \"rx\", \"ry\"]\n",
    "    for class_id in actors_dict.keys(): \n",
    "        for actors in actors_dict[class_id]:\n",
    "            scene.extend(append_to_scene(scene_id, actors, class_id))\n",
    "\n",
    "    scene_df = pd.DataFrame(scene, columns=cols)\n",
    "    scene_df = compute_routes_graph(scene_df)\n",
    "    scene_df.to_csv(f\"../assets/scenes/{scene_id}.csv\")\n",
    "    return scene_df"
   ]
  },
  {
   "cell_type": "markdown",
   "metadata": {},
   "source": [
    "# SCENES "
   ]
  },
  {
   "cell_type": "code",
   "execution_count": null,
   "metadata": {},
   "outputs": [],
   "source": []
  },
  {
   "cell_type": "code",
   "execution_count": null,
   "metadata": {},
   "outputs": [],
   "source": []
  },
  {
   "cell_type": "code",
   "execution_count": 19,
   "metadata": {},
   "outputs": [],
   "source": [
    "scene_id = \"scene_1-1\"\n",
    "\n",
    "pedestrians = [\n",
    "\t[(8625, 4500), (8625, 1500)],\n",
    "\t[(8630, 2900), (8630, 1500)],\n",
    "\t[(8770, 6500), (8770, 1800)],\n",
    "\t[(8770, 1800), (8770, 6500)],\n",
    "]\n",
    "\n",
    "vehicles = [\n",
    "\t[(8730, 1800), (8730, 6500)],\n",
    "\t[(8730, 2300), (8730, 6500)],\n",
    "\t[(8650, 6500), (8650, 1500)],\n",
    "\t[(8650, 2900), (8650, 1500)],\n",
    "]\n",
    "\n",
    "agent = [[(8600, 1600), (8704, 6650)]]\n",
    "\n",
    "scene_dict_11 = {\n",
    "    \"agent\": agent,\n",
    "\t\"pedestrians\": pedestrians,\n",
    "\t\"vehicles\": vehicles\n",
    "}\n",
    "\n",
    "scene_df_11 = get_scene_df(scene_id, scene_dict_11)"
   ]
  },
  {
   "cell_type": "code",
   "execution_count": 13,
   "metadata": {},
   "outputs": [],
   "source": [
    "scene_id = \"scene_1-2\"\n",
    "\n",
    "pedestrians = [\n",
    "    [(8625, 4500), (8625, 1500)],\n",
    "    [(8630, 2900), (8630, 1500)],\n",
    "    [(8770, 6500), (8770, 1800)],\n",
    "]\n",
    "\n",
    "vehicles = [\n",
    "    [(8730, 2300), (8730, 6500)],\n",
    "    [(8650, 6500), (8650, 1500)],\n",
    "]\n",
    "\n",
    "agent = [[(8600, 1600), (8704, 6650)]]\n",
    "\n",
    "scene_dict_12 = {\n",
    "    \"agent\": agent,\n",
    "\t\"pedestrians\": pedestrians,\n",
    "\t\"vehicles\": vehicles\n",
    "}\n",
    "\n",
    "scene_df_12 = get_scene_df(scene_id, scene_dict_12)"
   ]
  },
  {
   "cell_type": "code",
   "execution_count": 14,
   "metadata": {},
   "outputs": [],
   "source": [
    "scene_id = \"scene_1-3\"\n",
    "pedestrians = [\n",
    "    [(8630, 2900), (8630, 1500)],\n",
    "    [(8770, 1800), (8770, 6500)],\n",
    "]\n",
    "\n",
    "\n",
    "vehicles = [\n",
    "    [(8730, 1800), (8730, 6500)],\n",
    "    [(8730, 2300), (8730, 6500)],\n",
    "]\n",
    "\n",
    "agent = [[(8600, 1600), (8704, 6650)]]\n",
    "\n",
    "scene_dict_13 = {\n",
    "    \"agent\": agent,\n",
    "\t\"pedestrians\": pedestrians,\n",
    "\t\"vehicles\": vehicles\n",
    "}\n",
    "\n",
    "scene_df_13 = get_scene_df(scene_id, scene_dict_13)"
   ]
  },
  {
   "cell_type": "code",
   "execution_count": 4,
   "metadata": {},
   "outputs": [],
   "source": [
    "from CarlaBEV.src.scenes import SceneBuilder"
   ]
  },
  {
   "cell_type": "code",
   "execution_count": 6,
   "metadata": {},
   "outputs": [],
   "source": [
    "scene_builder = SceneBuilder([\"scene_1-0\", \"scene_1-1\", \"scene_1-2\", \"scene_1-3\"], 128)\n",
    "actors = scene_builder.get_scene_actors(\"scene_1-0\")"
   ]
  },
  {
   "cell_type": "markdown",
   "metadata": {},
   "source": [
    "# PLOT SCENES"
   ]
  },
  {
   "cell_type": "code",
   "execution_count": 7,
   "metadata": {},
   "outputs": [],
   "source": [
    "# Output in high quality.\n",
    "%config InlineBackend.figure_format='retina'\n",
    "%matplotlib tk\n",
    "import matplotlib.pyplot as plt\n",
    "plt.rcParams['figure.figsize'] = (8, 6)"
   ]
  },
  {
   "cell_type": "code",
   "execution_count": null,
   "metadata": {},
   "outputs": [],
   "source": [
    "# SCENE\n",
    "scene_id = \"scene-0\"\n",
    "# Find a route in the center lane within 2000 pixels\n",
    "rx, ry = planner.find_random_route(\n",
    "    lane_type='left',\n",
    "    min_distance=500,\n",
    "    max_distance=2000,\n",
    "    merge_threshold=1\n",
    ")"
   ]
  },
  {
   "cell_type": "code",
   "execution_count": 10,
   "metadata": {},
   "outputs": [],
   "source": [
    "pedestrians = [\n",
    "]\n",
    "\n",
    "vehicles = [\n",
    "]\n",
    "\n",
    "agent = [\n",
    "    [(rx[0], ry[0]), (rx[len(rx)-1], ry[len(ry)-1])]\n",
    "]\n",
    "\n",
    "debug_scene_dict = {\n",
    "    \"agent\": agent,\n",
    "\t\"pedestrians\": pedestrians,\n",
    "\t\"vehicles\": vehicles\n",
    "}\n",
    "\n",
    "scene_df = get_scene_df(scene_id, debug_scene_dict)"
   ]
  },
  {
   "cell_type": "code",
   "execution_count": null,
   "metadata": {},
   "outputs": [],
   "source": [
    "plot_route_on_map(rgbmap, np.array([[x, y] for x, y in zip(rx, ry)], dtype=np.int32))"
   ]
  },
  {
   "cell_type": "markdown",
   "metadata": {},
   "source": [
    "# DEBUG "
   ]
  },
  {
   "cell_type": "code",
   "execution_count": 6,
   "metadata": {},
   "outputs": [],
   "source": [
    "# SCENE\n",
    "scene_id = \"scene-0\"\n",
    "# Find a route in the center lane within 2000 pixels\n",
    "rx, ry = planner.find_random_route(\n",
    "    lane_type='left',\n",
    "    min_distance=500,\n",
    "    max_distance=2000,\n",
    "    merge_threshold=1\n",
    ")\n",
    "\n",
    "pedestrians = [\n",
    "]\n",
    "\n",
    "vehicles = [\n",
    "]\n",
    "\n",
    "agent = [\n",
    "    [(rx[0], ry[0]), (rx[len(rx)-1], ry[len(ry)-1])]\n",
    "]\n",
    "\n",
    "debug_scene_dict = {\n",
    "    \"agent\": agent,\n",
    "\t\"pedestrians\": pedestrians,\n",
    "\t\"vehicles\": vehicles\n",
    "}\n",
    "\n",
    "scene_df = get_scene_df(scene_id, debug_scene_dict)\n",
    "scene_builder_1 = SceneBuilder([scene_id], 1024, semap_8)\n",
    "scene_builder_8 = SceneBuilder([scene_id], 128, semap_8)\n",
    "\n",
    "actors_1 = scene_builder_1.get_scene_actors(scene_id)\n",
    "actors_8 = scene_builder_8.get_scene_actors(scene_id)"
   ]
  },
  {
   "cell_type": "code",
   "execution_count": null,
   "metadata": {},
   "outputs": [],
   "source": [
    "plot_route_on_map(rgbmap, np.array([[x, y] for x, y in zip(rx, ry)], dtype=np.int32))"
   ]
  },
  {
   "cell_type": "code",
   "execution_count": null,
   "metadata": {},
   "outputs": [],
   "source": [
    "draw_scene(rgbmap_8, actors_8)"
   ]
  },
  {
   "cell_type": "code",
   "execution_count": null,
   "metadata": {},
   "outputs": [
    {
     "data": {
      "image/png": "[encoded data removed]",
      "text/plain": [
       "<Figure size 1000x1000 with 1 Axes>"
      ]
     },
     "metadata": {},
     "output_type": "display_data"
    }
   ],
   "source": [
    "draw_scene(rgbmap, actors_1)"
   ]
  }
 ],
 "metadata": {
  "kernelspec": {
   "display_name": "torch",
   "language": "python",
   "name": "python3"
  },
  "language_info": {
   "codemirror_mode": {
    "name": "ipython",
    "version": 3
   },
   "file_extension": ".py",
   "mimetype": "text/x-python",
   "name": "python",
   "nbconvert_exporter": "python",
   "pygments_lexer": "ipython3",
   "version": "3.12.3"
  }
 },
 "nbformat": 4,
 "nbformat_minor": 2
}
