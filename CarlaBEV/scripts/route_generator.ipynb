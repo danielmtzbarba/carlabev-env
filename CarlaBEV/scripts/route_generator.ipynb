{
 "cells": [
  {
   "cell_type": "code",
   "execution_count": 3,
   "metadata": {},
   "outputs": [],
   "source": [
    "import pandas as pd\n",
    "from ast import literal_eval"
   ]
  },
  {
   "cell_type": "code",
   "execution_count": 4,
   "metadata": {},
   "outputs": [],
   "source": [
    "from CarlaBEV.src.planning.planner import Planner"
   ]
  },
  {
   "cell_type": "code",
   "execution_count": 5,
   "metadata": {},
   "outputs": [],
   "source": [
    "def append_to_scene(scene_id, actor, class_id):\n",
    "    scene = []\n",
    "    start, goal = actor\n",
    "    scene.append([scene_id, class_id, start, goal, None, None])\n",
    "    return scene\n",
    "\n",
    "def compute_routes(scene_df):\n",
    "    for idx, row in scene_df.iterrows():\n",
    "        id = 0\n",
    "        _, class_id, start, goal, _, _ = row\n",
    "        if class_id == \"pedestrians\":\n",
    "            id = 1\n",
    "        planner = Planner(id)\n",
    "        rx, ry = planner.find_global_path(start, goal, 1024)\n",
    "        scene_df.astype({'rx': \"object\", 'ry': \"object\"}).dtypes\n",
    "        scene_df.loc[idx, \"rx\"] = rx\n",
    "        scene_df.loc[idx, \"ry\"] = ry\n",
    "    return scene_df\n",
    "\n",
    "def get_scene_df(scene_id, actors_dict):\n",
    "    scene = []\n",
    "    cols = [\"scene_id\", \"class\", \"start\", \"goal\", \"rx\", \"ry\"]\n",
    "    for class_id in actors_dict.keys(): \n",
    "        for actors in actors_dict[class_id]:\n",
    "            scene.extend(append_to_scene(scene_id, actors, class_id))\n",
    "\n",
    "    scene_df = pd.DataFrame(scene, columns=cols)\n",
    "    scene_df = compute_routes(scene_df)\n",
    "    scene_df.to_csv(f\"{scene_id}.csv\")\n",
    "    return scene_df"
   ]
  },
  {
   "cell_type": "code",
   "execution_count": 23,
   "metadata": {},
   "outputs": [],
   "source": [
    "scene_id = \"scene_1-1\"\n",
    "\n",
    "pedestrians = [\n",
    "\t[(8625, 4500), (8625, 1500)],\n",
    "\t[(8630, 2900), (8630, 1500)],\n",
    "\t[(8770, 6500), (8770, 1800)],\n",
    "\t[(8770, 1800), (8770, 6500)],\n",
    "]\n",
    "\n",
    "vehicles = [\n",
    "\t[(8730, 1800), (8730, 6500)],\n",
    "\t[(8730, 2300), (8730, 6500)],\n",
    "\t[(8650, 6500), (8650, 1500)],\n",
    "\t[(8650, 2900), (8650, 1500)],\n",
    "]\n",
    "\n",
    "scene_dict_11 = {\n",
    "\t\"pedestrians\": pedestrians,\n",
    "\t\"vehicles\": vehicles\n",
    "}\n",
    "\n",
    "scene_df_11 = get_scene_df(scene_id, scene_dict_11)"
   ]
  },
  {
   "cell_type": "code",
   "execution_count": 6,
   "metadata": {},
   "outputs": [],
   "source": [
    "scene_id = \"scene_1-2\"\n",
    "\n",
    "pedestrians = [\n",
    "    [(8625, 4500), (8625, 1500)],\n",
    "    [(8630, 2900), (8630, 1500)],\n",
    "    [(8770, 6500), (8770, 1800)],\n",
    "]\n",
    "\n",
    "vehicles = [\n",
    "    [(8730, 2300), (8730, 6500)],\n",
    "    [(8650, 6500), (8650, 1500)],\n",
    "]\n",
    "\n",
    "\n",
    "scene_dict_12 = {\n",
    "\t\"pedestrians\": pedestrians,\n",
    "\t\"vehicles\": vehicles\n",
    "}\n",
    "\n",
    "scene_df_12 = get_scene_df(scene_id, scene_dict_12)"
   ]
  },
  {
   "cell_type": "code",
   "execution_count": 7,
   "metadata": {},
   "outputs": [],
   "source": [
    "scene_id = \"scene_1-3\"\n",
    "pedestrians = [\n",
    "    [(8630, 2900), (8630, 1500)],\n",
    "    [(8770, 1800), (8770, 6500)],\n",
    "]\n",
    "\n",
    "\n",
    "vehicles = [\n",
    "    [(8730, 1800), (8730, 6500)],\n",
    "    [(8730, 2300), (8730, 6500)],\n",
    "]\n",
    "\n",
    "scene_dict_13 = {\n",
    "\t\"pedestrians\": pedestrians,\n",
    "\t\"vehicles\": vehicles\n",
    "}\n",
    "\n",
    "scene_df_13 = get_scene_df(scene_id, scene_dict_13)"
   ]
  },
  {
   "cell_type": "markdown",
   "metadata": {},
   "source": [
    "# LOAD SCENES"
   ]
  },
  {
   "cell_type": "code",
   "execution_count": 1,
   "metadata": {},
   "outputs": [],
   "source": [
    "from CarlaBEV.src.scenes import SceneBuilder"
   ]
  },
  {
   "cell_type": "code",
   "execution_count": 8,
   "metadata": {},
   "outputs": [],
   "source": [
    "scene_builder = SceneBuilder([\"scene_1-1\", \"scene_1-2\", \"scene_1-3\"], 128)"
   ]
  }
 ],
 "metadata": {
  "kernelspec": {
   "display_name": "torch",
   "language": "python",
   "name": "python3"
  },
  "language_info": {
   "codemirror_mode": {
    "name": "ipython",
    "version": 3
   },
   "file_extension": ".py",
   "mimetype": "text/x-python",
   "name": "python",
   "nbconvert_exporter": "python",
   "pygments_lexer": "ipython3",
   "version": "3.12.3"
  }
 },
 "nbformat": 4,
 "nbformat_minor": 2
}
